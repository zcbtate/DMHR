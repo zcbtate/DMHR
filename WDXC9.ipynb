{
 "cells": [
  {
   "cell_type": "code",
   "execution_count": 1,
   "metadata": {},
   "outputs": [],
   "source": [
    "#https://s3.eu-west-2.amazonaws.com/dmhr-data/practices_Dec2015.csv\n",
    "#https://s3.eu-west-2.amazonaws.com/dmhr-data/prescribing_Dec2015.csv\n",
    "#Plymouth\n",
    "\n"
   ]
  },
  {
   "cell_type": "code",
   "execution_count": 2,
   "metadata": {},
   "outputs": [],
   "source": [
    "##prelims\n",
    "import pandas as pd\n",
    "import numpy as np\n",
    "\n",
    "%matplotlib inline\n",
    "import random\n",
    "import matplotlib.pyplot as plt"
   ]
  },
  {
   "cell_type": "code",
   "execution_count": null,
   "metadata": {},
   "outputs": [],
   "source": [
    "praccols = ['date', 'practice', 'name', 'ad1', 'ad2', 'ad3', 'ad4', 'postcode']  ##rename columns\n",
    "GPprac = pd.read_csv('https://s3.eu-west-2.amazonaws.com/dmhr-data/practices_Dec2015.csv', header=None, names=praccols, index_col=False, skiprows=0).rename(columns=lambda x: x.strip())"
   ]
  },
  {
   "cell_type": "code",
   "execution_count": null,
   "metadata": {},
   "outputs": [],
   "source": [
    "prescols = ['sha', 'pct', 'practice', 'bnf code', 'bnf name', 'items', 'nic', 'act cost', 'quantity', 'period']\n",
    "GPpres = pd.read_csv('https://s3.eu-west-2.amazonaws.com/dmhr-data/prescribing_Dec2015.csv', header=None, names=prescols, index_col=False, skiprows=1).rename(columns=lambda x: x.strip())"
   ]
  },
  {
   "cell_type": "code",
   "execution_count": null,
   "metadata": {},
   "outputs": [],
   "source": [
    "GPpres.head() ##see columns"
   ]
  },
  {
   "cell_type": "code",
   "execution_count": null,
   "metadata": {},
   "outputs": [],
   "source": [
    "GPprac.head()"
   ]
  },
  {
   "cell_type": "code",
   "execution_count": null,
   "metadata": {},
   "outputs": [],
   "source": [
    "GPpres.dtypes\n",
    "##check data types"
   ]
  },
  {
   "cell_type": "code",
   "execution_count": null,
   "metadata": {},
   "outputs": [],
   "source": [
    "GPprac.dtypes\n"
   ]
  },
  {
   "cell_type": "code",
   "execution_count": null,
   "metadata": {},
   "outputs": [],
   "source": [
    "GPprac.shape"
   ]
  },
  {
   "cell_type": "code",
   "execution_count": null,
   "metadata": {},
   "outputs": [],
   "source": [
    "GPpres.shape"
   ]
  },
  {
   "cell_type": "code",
   "execution_count": null,
   "metadata": {},
   "outputs": [],
   "source": [
    "NationalGPpres = pd.merge(GPprac, GPpres, on='practice') ##one large dataframe for whole set"
   ]
  },
  {
   "cell_type": "code",
   "execution_count": null,
   "metadata": {},
   "outputs": [],
   "source": [
    "NationalGPpres.dtypes"
   ]
  },
  {
   "cell_type": "code",
   "execution_count": null,
   "metadata": {},
   "outputs": [],
   "source": [
    "GPprac.head()"
   ]
  },
  {
   "cell_type": "code",
   "execution_count": null,
   "metadata": {},
   "outputs": [],
   "source": [
    "GPprac['ad3'] = GPprac['ad3'].str.lower()\n",
    "GPprac['ad4'] = GPprac['ad4'].str.lower()\n",
    "###clean data strings"
   ]
  },
  {
   "cell_type": "code",
   "execution_count": null,
   "metadata": {},
   "outputs": [],
   "source": [
    "GPprac.head()"
   ]
  },
  {
   "cell_type": "code",
   "execution_count": null,
   "metadata": {},
   "outputs": [],
   "source": [
    "GPplyad3 = GPprac[GPprac['ad3'].map(lambda ad3: 'plymouth' in ad3)]\n",
    "GPplyad4 = GPprac[GPprac['ad4'].map(lambda ad4: 'plymouth' in ad4)]\n",
    "GPplyprac = pd.concat([GPplyad3, GPplyad4])\n",
    "##'plymouth' present in both columns"
   ]
  },
  {
   "cell_type": "code",
   "execution_count": null,
   "metadata": {},
   "outputs": [],
   "source": [
    "GPplyprac\n"
   ]
  },
  {
   "cell_type": "code",
   "execution_count": null,
   "metadata": {},
   "outputs": [],
   "source": [
    "GPplypres = pd.merge(GPpres, GPplyprac, on='practice')"
   ]
  },
  {
   "cell_type": "code",
   "execution_count": null,
   "metadata": {},
   "outputs": [],
   "source": [
    "GPplypres.dtypes\n"
   ]
  },
  {
   "cell_type": "code",
   "execution_count": null,
   "metadata": {},
   "outputs": [],
   "source": [
    "GPplypres.head()"
   ]
  },
  {
   "cell_type": "code",
   "execution_count": null,
   "metadata": {},
   "outputs": [],
   "source": [
    "TotPlymPresc = GPplypres['items'].groupby(GPplypres['bnf name']).count()\n",
    "TotPlymPresc1 = pd.DataFrame(TotPlymPresc).reset_index()\n",
    "TotalPlymouthPrescriptions = TotPlymPresc1.sort_values(['items'], ascending = False)\n",
    "TotalPlymouthPrescriptions.head(10)"
   ]
  },
  {
   "cell_type": "code",
   "execution_count": null,
   "metadata": {},
   "outputs": [],
   "source": [
    "TotalPlymouthPrescriptions.shape"
   ]
  },
  {
   "cell_type": "code",
   "execution_count": null,
   "metadata": {},
   "outputs": [],
   "source": [
    "TotPlymPrescbyprac = GPplypres['bnf name'].groupby(GPplypres['practice']).count()\n"
   ]
  },
  {
   "cell_type": "code",
   "execution_count": null,
   "metadata": {},
   "outputs": [],
   "source": [
    "TotPlymPrescbyprac1 = pd.DataFrame(TotPlymPrescbyprac)\n"
   ]
  },
  {
   "cell_type": "code",
   "execution_count": null,
   "metadata": {},
   "outputs": [],
   "source": [
    "TotPlymPrescbyprac1.head(10)"
   ]
  },
  {
   "cell_type": "code",
   "execution_count": null,
   "metadata": {},
   "outputs": [],
   "source": [
    "GPplyprac_itemspres = GPplypres.agg({'items': [np.sum]})\n",
    "\n",
    "GPplyprac_actcost = GPplypres.agg({'act cost': [np.sum]})\n",
    "\n",
    "SumPlymouthPrescriptions = GPplyprac_itemspres.join(GPplyprac_actcost)\n",
    "\n",
    "SumPlymouthPrescriptions"
   ]
  },
  {
   "cell_type": "code",
   "execution_count": null,
   "metadata": {},
   "outputs": [],
   "source": [
    "GPplyprac_itemspres_len = pd.DataFrame()\n",
    "GPplyprac_itemspres_len = len(GPplypres['bnf name'])\n",
    "GPplyprac_itemspres_len"
   ]
  },
  {
   "cell_type": "code",
   "execution_count": null,
   "metadata": {},
   "outputs": [],
   "source": [
    "## Question2\n"
   ]
  },
  {
   "cell_type": "code",
   "execution_count": null,
   "metadata": {},
   "outputs": [],
   "source": [
    "NationalGPpres1 = NationalGPpres['items'].groupby(NationalGPpres['bnf name']).count()\n",
    "NationalGPpres1 = pd.DataFrame(NationalGPpres1)\n",
    "NationalGPpres2 = NationalGPpres1.sort_values(['items'], ascending = False)\n",
    "NationalGPpres2.head(10)"
   ]
  },
  {
   "cell_type": "code",
   "execution_count": null,
   "metadata": {},
   "outputs": [],
   "source": [
    " NationalGPpres2= NationalGPpres2.reset_index()\n"
   ]
  },
  {
   "cell_type": "code",
   "execution_count": null,
   "metadata": {},
   "outputs": [],
   "source": [
    "NationalGPpres2.columns"
   ]
  },
  {
   "cell_type": "code",
   "execution_count": null,
   "metadata": {},
   "outputs": [],
   "source": [
    "#top 10\n",
    "NationalGPpresTOP10Freq = NationalGPpres2.head(10)\n",
    "NationalGPpresTOP10Freq"
   ]
  },
  {
   "cell_type": "code",
   "execution_count": null,
   "metadata": {},
   "outputs": [],
   "source": [
    "#bottom 10\n",
    "NationalGPpresBOTTOM10 = NationalGPpres2.tail(10)\n",
    "NationalGPpresBOTTOM10"
   ]
  },
  {
   "cell_type": "code",
   "execution_count": null,
   "metadata": {},
   "outputs": [],
   "source": [
    "##act cost for each gp practice\n",
    "Natprescost = NationalGPpres['act cost'].groupby(NationalGPpres['bnf name']).sum()\n",
    "\n"
   ]
  },
  {
   "cell_type": "code",
   "execution_count": null,
   "metadata": {},
   "outputs": [],
   "source": [
    "Natpresactcost = pd.DataFrame(Natprescost)\n",
    "\n",
    "Natpresactcost1 = Natpresactcost.sort_values(['act cost'], ascending = False)\n",
    "\n",
    "Natpresactcost1.head(10)"
   ]
  },
  {
   "cell_type": "code",
   "execution_count": null,
   "metadata": {},
   "outputs": [],
   "source": [
    "Natpresactcost1 = Natpresactcost1.reset_index()\n"
   ]
  },
  {
   "cell_type": "code",
   "execution_count": null,
   "metadata": {},
   "outputs": [],
   "source": [
    "Natpresactcost1.columns"
   ]
  },
  {
   "cell_type": "code",
   "execution_count": null,
   "metadata": {},
   "outputs": [],
   "source": [
    "NationalGPpresTOP10Freq.columns\n"
   ]
  },
  {
   "cell_type": "code",
   "execution_count": null,
   "metadata": {},
   "outputs": [],
   "source": [
    "##top 10 expensive nationally\n"
   ]
  },
  {
   "cell_type": "code",
   "execution_count": null,
   "metadata": {},
   "outputs": [],
   "source": [
    "Natpresactcosttop10 = pd.merge(NationalGPpresTOP10Freq, Natpresactcost1, on='bnf name')"
   ]
  },
  {
   "cell_type": "code",
   "execution_count": null,
   "metadata": {},
   "outputs": [],
   "source": [
    "Natpresactcosttop10 = Natpresactcosttop10.sort_values(['items'], ascending = False)"
   ]
  },
  {
   "cell_type": "code",
   "execution_count": null,
   "metadata": {},
   "outputs": [],
   "source": [
    "Natpresactcosttop10.head(10)"
   ]
  },
  {
   "cell_type": "code",
   "execution_count": null,
   "metadata": {},
   "outputs": [],
   "source": [
    "## least freq prescribed and act cost\n",
    "\n",
    "NationalGPpresBOTTOM10\n",
    "NationalGPpresBOTTOM10 = NationalGPpresBOTTOM10.reset_index()\n",
    "Natpresactcostbottom10 = pd.merge(NationalGPpresBOTTOM10, Natpresactcost1, on='bnf name')\n",
    "Natpresactcostbottom10 = Natpresactcostbottom10.sort_values(['items'], ascending = False)\n",
    "Natpresactcostbottom10.head(10)"
   ]
  },
  {
   "cell_type": "code",
   "execution_count": null,
   "metadata": {},
   "outputs": [],
   "source": [
    "## Frequency and ACT COST in Plymouth"
   ]
  },
  {
   "cell_type": "code",
   "execution_count": null,
   "metadata": {},
   "outputs": [],
   "source": [
    "Plymouthtop10items = TotalPlymouthPrescriptions.head(10)\n",
    "TotalPlymouthPrescriptions.columns"
   ]
  },
  {
   "cell_type": "code",
   "execution_count": null,
   "metadata": {},
   "outputs": [],
   "source": [
    "Plymouthbottom10items = TotalPlymouthPrescriptions.tail(10)\n",
    "Plymouthbottom10items"
   ]
  },
  {
   "cell_type": "code",
   "execution_count": null,
   "metadata": {},
   "outputs": [],
   "source": [
    "Plymouthprescost = GPplypres['act cost'].groupby(GPplypres['bnf name']).sum()\n"
   ]
  },
  {
   "cell_type": "code",
   "execution_count": null,
   "metadata": {},
   "outputs": [],
   "source": [
    "Plymouthprescost1 = pd.DataFrame(Plymouthprescost).reset_index()\n",
    "Plymouthprescost2 = Plymouthprescost1.sort_values(['act cost'], ascending = False)\n",
    "Plymouthprescost2.head(10)\n"
   ]
  },
  {
   "cell_type": "code",
   "execution_count": null,
   "metadata": {},
   "outputs": [],
   "source": [
    "Plymouthtop10items.shape"
   ]
  },
  {
   "cell_type": "code",
   "execution_count": null,
   "metadata": {},
   "outputs": [],
   "source": [
    "GPplyprescosttop10 = pd.merge(Plymouthtop10items, Plymouthprescost2, on='bnf name')\n"
   ]
  },
  {
   "cell_type": "code",
   "execution_count": null,
   "metadata": {},
   "outputs": [],
   "source": [
    "GPplyprescosttop10\n",
    "###top 10 freq prescriptions and their actual cost for plymouth"
   ]
  },
  {
   "cell_type": "code",
   "execution_count": null,
   "metadata": {},
   "outputs": [],
   "source": [
    "GPplyprescostbottom10 = pd.merge(Plymouthbottom10items, Plymouthprescost2, on='bnf name')"
   ]
  },
  {
   "cell_type": "code",
   "execution_count": null,
   "metadata": {},
   "outputs": [],
   "source": [
    "GPplyprescostbottom10"
   ]
  },
  {
   "cell_type": "code",
   "execution_count": null,
   "metadata": {},
   "outputs": [],
   "source": [
    "##Least freq prescribed med and their cost in plymouth\n"
   ]
  },
  {
   "cell_type": "code",
   "execution_count": null,
   "metadata": {},
   "outputs": [],
   "source": [
    " GPplyprescosttop10.dtypes"
   ]
  },
  {
   "cell_type": "code",
   "execution_count": null,
   "metadata": {},
   "outputs": [],
   "source": [
    "##top 10 total cost\n",
    "GPplypresactcosttop10 = GPplyprescosttop10.agg({'act cost': [np.sum]})\n",
    "GPplypresactcosttop10"
   ]
  },
  {
   "cell_type": "code",
   "execution_count": null,
   "metadata": {},
   "outputs": [],
   "source": [
    "##bottom 10 total cost\n",
    "GPplypresactcostbottom10 = GPplyprescostbottom10.agg({'act cost': [np.sum]})\n",
    "GPplypresactcostbottom10"
   ]
  },
  {
   "cell_type": "code",
   "execution_count": null,
   "metadata": {},
   "outputs": [],
   "source": [
    "##ACT Cost of all plymouth\n",
    "GPplysumACTCOST = Plymouthprescost2.agg({'act cost': [np.sum]})\n",
    "GPplysumACTCOST\n"
   ]
  },
  {
   "cell_type": "code",
   "execution_count": null,
   "metadata": {},
   "outputs": [],
   "source": [
    "GPplyPracActCost = GPplypres['act cost'].groupby(GPplypres['practice']).sum()"
   ]
  },
  {
   "cell_type": "code",
   "execution_count": null,
   "metadata": {},
   "outputs": [],
   "source": [
    "GPplyPracActCost.head(10)\n"
   ]
  },
  {
   "cell_type": "code",
   "execution_count": null,
   "metadata": {},
   "outputs": [],
   "source": [
    "GPplypres1 = GPplypres    ## new dataframe to assign to prevent making unwanted changes on old df\n",
    "GPplypres1 = GPplypres1.assign(costperit = GPplypres1['act cost']/GPplypres1['items'])\n",
    "GPcostperit = pd.DataFrame()"
   ]
  },
  {
   "cell_type": "code",
   "execution_count": null,
   "metadata": {},
   "outputs": [],
   "source": [
    "GPcostperit = GPplypres1[['practice', 'bnf name', 'items', 'act cost', 'costperit']]\n",
    "GPcostperitdescen = GPcostperit.sort_values(by='costperit', ascending=False).round(2)\n",
    "GPcostperittop10 = GPcostperitdescen.head(10)\n",
    "GPcostperittop10"
   ]
  },
  {
   "cell_type": "code",
   "execution_count": null,
   "metadata": {},
   "outputs": [],
   "source": [
    "##total actual cost of 10 most expensive prescriptions\n",
    "SUMperitTop10 = sum(GPcostperittop10['act cost'])\n",
    "SUMperitTop10"
   ]
  },
  {
   "cell_type": "code",
   "execution_count": null,
   "metadata": {},
   "outputs": [],
   "source": [
    "####\n",
    "##CAMBRIDGE as reference\n",
    "#####\n"
   ]
  },
  {
   "cell_type": "code",
   "execution_count": null,
   "metadata": {},
   "outputs": [],
   "source": [
    "GPcamad3 = GPprac[GPprac['ad3'].map(lambda ad3: 'cambridge' in ad3)]\n",
    "GPcamad4 = GPprac[GPprac['ad4'].map(lambda ad4: 'cambridge' in ad4)]\n",
    "GPcamprac = pd.concat([GPcamad3, GPcamad4])"
   ]
  },
  {
   "cell_type": "code",
   "execution_count": null,
   "metadata": {},
   "outputs": [],
   "source": [
    "GPcamprac.head()"
   ]
  },
  {
   "cell_type": "code",
   "execution_count": null,
   "metadata": {},
   "outputs": [],
   "source": [
    "GPcampres = pd.merge(GPpres, GPcamprac, on='practice')"
   ]
  },
  {
   "cell_type": "code",
   "execution_count": null,
   "metadata": {},
   "outputs": [],
   "source": [
    "TotCamPresc = GPcampres['items'].groupby(GPcampres['bnf name']).count()\n",
    "TotCamPresc1 = pd.DataFrame(TotCamPresc).reset_index()\n",
    "TotalCamPrescriptions = TotCamPresc1.sort_values(['items'], ascending = False)\n",
    "TotalCamPrescriptions.head(10)"
   ]
  },
  {
   "cell_type": "code",
   "execution_count": null,
   "metadata": {},
   "outputs": [],
   "source": [
    "TotCamPrescbyprac = GPcampres['bnf name'].groupby(GPcampres['practice']).count()"
   ]
  },
  {
   "cell_type": "code",
   "execution_count": null,
   "metadata": {},
   "outputs": [],
   "source": [
    "TotCamPrescbyprac1 = pd.DataFrame(TotCamPrescbyprac)"
   ]
  },
  {
   "cell_type": "code",
   "execution_count": null,
   "metadata": {},
   "outputs": [],
   "source": [
    "TotCamPrescbyprac1.head(10)"
   ]
  },
  {
   "cell_type": "code",
   "execution_count": null,
   "metadata": {},
   "outputs": [],
   "source": [
    "GPcamprac_itemspres = GPcampres.agg({'items': [np.sum]})\n",
    "\n",
    "GPcamprac_actcost = GPcampres.agg({'act cost' : [np.sum]})\n",
    "\n",
    "SumCamPrescriptions = GPcamprac_itemspres.join(GPcamprac_actcost)\n",
    "SumCamPrescriptions"
   ]
  },
  {
   "cell_type": "code",
   "execution_count": null,
   "metadata": {},
   "outputs": [],
   "source": [
    "import pandas as pd\n",
    "\n",
    "from panda.py import PandaSQL\n"
   ]
  },
  {
   "cell_type": "code",
   "execution_count": null,
   "metadata": {},
   "outputs": [],
   "source": [
    "pdsql = PandaSQL()\n",
    "\n",
    "GPprac = pd.DataFrame()\n",
    "\n",
    "print (pdsql(\"SELECT COUNT('practice'), 'ad3' FROM GPprac GROUP BY 'practice' ORDER BY COUNT 'practice' DESC \"))\n"
   ]
  },
  {
   "cell_type": "code",
   "execution_count": null,
   "metadata": {},
   "outputs": [],
   "source": [
    "#\n",
    "#\n",
    "#\n",
    "#\n",
    "#\n",
    "#\n",
    "#\n",
    "#Assignment B\n",
    "#\n",
    "# https://digital.nhs.uk/media/28273/Numbers-of-Patients-Registered-at-a-GP-Practice-Jan-2016-GP-Practice-and-quinary-age-groups/Any/gp-reg-patients-prac-quin-age"
   ]
  },
  {
   "cell_type": "code",
   "execution_count": null,
   "metadata": {},
   "outputs": [],
   "source": [
    "NationalGPpres.columns"
   ]
  },
  {
   "cell_type": "code",
   "execution_count": null,
   "metadata": {},
   "outputs": [],
   "source": [
    "MonthlyTotalSpending = NationalGPpres['act cost'].groupby(NationalGPpres['practice']).sum()"
   ]
  },
  {
   "cell_type": "code",
   "execution_count": null,
   "metadata": {},
   "outputs": [],
   "source": [
    "MonthlyTotalSpending1 = pd.DataFrame(MonthlyTotalSpending).reset_index()\n",
    "MonthlyTotalSpending1"
   ]
  },
  {
   "cell_type": "code",
   "execution_count": null,
   "metadata": {},
   "outputs": [],
   "source": [
    "MonthlyTotalSpending1.columns"
   ]
  },
  {
   "cell_type": "code",
   "execution_count": null,
   "metadata": {},
   "outputs": [],
   "source": [
    "MonthlyTotalSpending1.columns"
   ]
  },
  {
   "cell_type": "code",
   "execution_count": null,
   "metadata": {},
   "outputs": [],
   "source": [
    "\n",
    "registeredp = pd.read_csv('https://digital.nhs.uk/media/28273/Numbers-of-Patients-Registered-at-a-GP-Practice-Jan-2016-GP-Practice-and-quinary-age-groups/Any/gp-reg-patients-prac-quin-age')"
   ]
  },
  {
   "cell_type": "code",
   "execution_count": null,
   "metadata": {},
   "outputs": [],
   "source": [
    "registeredpt = registeredp.rename(columns = {'GP_PRACTICE_CODE':'practice', 'POSTCODE':'postcode'})\n",
    "registeredpt.head()"
   ]
  },
  {
   "cell_type": "code",
   "execution_count": null,
   "metadata": {},
   "outputs": [],
   "source": [
    "registeredpt = registeredpt.loc[:,['practice', 'Total_All']]\n",
    "registeredpt.head()"
   ]
  },
  {
   "cell_type": "code",
   "execution_count": null,
   "metadata": {},
   "outputs": [],
   "source": [
    "NationalGPprespt = pd.merge(left=NationalGPpres, right=registeredpt, on=['practice'])\n",
    "NationalGPprespt.head()"
   ]
  },
  {
   "cell_type": "code",
   "execution_count": null,
   "metadata": {},
   "outputs": [],
   "source": [
    "NatGPSpendPt = pd.merge(MonthlyTotalSpending1, registeredpt, on='practice')"
   ]
  },
  {
   "cell_type": "code",
   "execution_count": null,
   "metadata": {},
   "outputs": [],
   "source": [
    "NatGPSpendPt.columns"
   ]
  },
  {
   "cell_type": "code",
   "execution_count": null,
   "metadata": {},
   "outputs": [],
   "source": [
    "NatGPSpendPt['CostsPerPt'] = NatGPSpendPt['act cost']/NatGPSpendPt['Total_All']\n",
    "NatGPSpendPt.columns"
   ]
  },
  {
   "cell_type": "code",
   "execution_count": null,
   "metadata": {},
   "outputs": [],
   "source": [
    "NatGPSpendPtOrder = NatGPSpendPt.sort_values(['CostsPerPt'], ascending = False)\n",
    "NatGPSpendPtOrder = NatGPSpendPtOrder[28:-5]\n",
    "NatGPSpendPtOrder ##Cleaned up dataframe without extreme values"
   ]
  },
  {
   "cell_type": "code",
   "execution_count": null,
   "metadata": {},
   "outputs": [],
   "source": [
    "a = GPplypres.practice.unique().tolist()\n",
    "b = NatGPSpendPt.practice.isin(a)\n",
    "PlyGPSpendPt1 = NatGPSpendPt[b]\n",
    "PlyGPSpendPt1.sort_values(['CostsPerPt'], ascending = False)\n"
   ]
  },
  {
   "cell_type": "code",
   "execution_count": null,
   "metadata": {},
   "outputs": [],
   "source": [
    "from math import floor\n",
    "fig=plt.figure(figsize=(8, 6))\n",
    "ax=fig.add_subplot(111)\n",
    "x= NatGPSpendPt['act cost']\n",
    "y= NatGPSpendPt['Total_All']\n",
    "x1= PlyGPSpendPt1['act cost']\n",
    "y1 = PlyGPSpendPt1['Total_All']\n",
    "ax.scatter(x, y, color='c')\n",
    "ax.scatter(x1, y1, color='r')\n",
    "fit = np.polyfit(x, y, deg=1)\n",
    "ax.plot(x, fit[0] * x + fit[1], color='b')\n",
    "ax.set_title('Scatter plot: monthly total spending / registered patients')\n",
    "ax.set_xlabel('Monthly total spending', fontsize=12)\n",
    "ax.set_ylabel('Total number of registered patients', fontsize=12)\n",
    "max_x=floor(NatGPSpendPt['act cost'].max())\n",
    "max_y=floor(NatGPSpendPt.Total_All.max())\n",
    "ax.set_xlim(0, max_x)\n",
    "ax.set_ylim(0, max_y)"
   ]
  },
  {
   "cell_type": "code",
   "execution_count": null,
   "metadata": {},
   "outputs": [],
   "source": [
    "x= NatGPSpendPtOrder.CostsPerPt.values\n",
    "\n",
    "plt.hist(x, bins=50, color='y')\n",
    "plt.xlabel('Costs Per Registered Patient')\n",
    "plt.ylabel('Frequency')\n",
    "\n",
    "\n",
    "plt.title('The Relative Costs Per Petient of all national GP-practices')"
   ]
  },
  {
   "cell_type": "code",
   "execution_count": null,
   "metadata": {},
   "outputs": [],
   "source": [
    "statsnational = NatGPSpendPt.describe()\n",
    "statsnational"
   ]
  },
  {
   "cell_type": "code",
   "execution_count": null,
   "metadata": {},
   "outputs": [],
   "source": [
    "statsplymouth = PlyGPSpendPt1.describe()\n",
    "statsplymouth"
   ]
  },
  {
   "cell_type": "code",
   "execution_count": null,
   "metadata": {},
   "outputs": [],
   "source": []
  },
  {
   "cell_type": "code",
   "execution_count": null,
   "metadata": {},
   "outputs": [],
   "source": [
    "#\n",
    "#\n",
    "#\n",
    "#\n",
    "#\n",
    "#Assignment C\n",
    "#\n",
    "#\n"
   ]
  },
  {
   "cell_type": "code",
   "execution_count": null,
   "metadata": {},
   "outputs": [],
   "source": [
    "NationalGPpres['bnf name'] = NationalGPpres['bnf name'].str.lower()\n",
    "\n"
   ]
  },
  {
   "cell_type": "code",
   "execution_count": null,
   "metadata": {},
   "outputs": [],
   "source": [
    "StatinPres = NationalGPpres[NationalGPpres['bnf name'].map(lambda x: 'statin' in x)]"
   ]
  },
  {
   "cell_type": "code",
   "execution_count": null,
   "metadata": {},
   "outputs": [],
   "source": [
    "StatinPres1 = StatinPres.groupby('practice')['act cost'].sum()\n",
    "Sp2 = pd.DataFrame(StatinPres1).reset_index()\n",
    "Sp3 = Sp2.sort_values(['act cost'], ascending = False)\n",
    "Sp3.head(10)"
   ]
  },
  {
   "cell_type": "code",
   "execution_count": null,
   "metadata": {},
   "outputs": [],
   "source": [
    "CostPerPtStatins = pd.merge(Sp3, registeredpt, on='practice')\n",
    "CostPerPtStatins.head()"
   ]
  },
  {
   "cell_type": "code",
   "execution_count": null,
   "metadata": {},
   "outputs": [],
   "source": [
    "CostPerPtStatins['relative costs per pt'] = CostPerPtStatins['act cost'] / CostPerPtStatins['Total_All']\n",
    "\n",
    "CostPerPtStatins"
   ]
  },
  {
   "cell_type": "code",
   "execution_count": null,
   "metadata": {},
   "outputs": [],
   "source": [
    "RelativeCostbyprac = CostPerPtStatins.loc[:, ['practice', 'relative costs per pt']]\n",
    "RelativeCostbyprac.head()"
   ]
  },
  {
   "cell_type": "code",
   "execution_count": null,
   "metadata": {},
   "outputs": [],
   "source": [
    "RelativeCostbyprac.sort_values(['relative costs per pt'], ascending = False)"
   ]
  },
  {
   "cell_type": "code",
   "execution_count": null,
   "metadata": {},
   "outputs": [],
   "source": [
    "IMD = pd.read_csv('https://s3.eu-west-2.amazonaws.com/dmhr-data/deprivation-by-postcode.csv')\n",
    "IMD.rename(columns={'Postcode':'postcode'})"
   ]
  },
  {
   "cell_type": "code",
   "execution_count": null,
   "metadata": {},
   "outputs": [],
   "source": [
    "#plymouth\n",
    "IMDGP = pd.merge(left=NationalGPpres, right=IMD, left_on='postcode', right_on ='postcode')"
   ]
  },
  {
   "cell_type": "code",
   "execution_count": null,
   "metadata": {},
   "outputs": [],
   "source": [
    "IMDGPply = IMDGP[IMDGP['city'].str.containts('PLYMOUTH')]\n",
    "IMDGPply.head()"
   ]
  },
  {
   "cell_type": "code",
   "execution_count": null,
   "metadata": {},
   "outputs": [],
   "source": [
    "IMDperprac = IMDGP.loc[:,['practice','Index of Multiple Deprivation Rank']]\n",
    "IMDperprac = IMDperprac.drop_duplicates(['practice', 'Index of Multiple Deprivation Rank'])\n",
    "IMDperprac = IMDperprac.sort_values('Index of Multiple Deprivation Rank', ascending=False)\n",
    "IMDperprac.head()"
   ]
  },
  {
   "cell_type": "code",
   "execution_count": null,
   "metadata": {},
   "outputs": [],
   "source": [
    "RelativeCostbyprac = RelativeCostbyprac.sort_values('relative costs per pt', ascending=False)\n",
    "RelativeCostbyprac.head()"
   ]
  },
  {
   "cell_type": "code",
   "execution_count": null,
   "metadata": {},
   "outputs": [],
   "source": [
    "firstdecile = RelativeCostbyprac['relative costs per pt'].quantile(.90)\n",
    "xx = firstdecile\n",
    "##highest relative spenders"
   ]
  },
  {
   "cell_type": "code",
   "execution_count": null,
   "metadata": {},
   "outputs": [],
   "source": [
    "lastdecile = RelativeCostbyprac['relative costs per pt'].quantile(.10)\n",
    "yy = lastdecile\n",
    "##lowest relative spenders"
   ]
  },
  {
   "cell_type": "code",
   "execution_count": null,
   "metadata": {},
   "outputs": [],
   "source": [
    "firstdecile1 = RelativeCostbyprac.loc[RelativeCostbyprac['relative costs per pt'] >= xx\n",
    "firstdecile1.head()"
   ]
  },
  {
   "cell_type": "code",
   "execution_count": null,
   "metadata": {},
   "outputs": [],
   "source": [
    "lastdecile1 = RelativeCostbyprac.loc[RelativeCostbyprac['relative costs per pt'] <= yy\n",
    "lastdecile1.head()"
   ]
  },
  {
   "cell_type": "code",
   "execution_count": null,
   "metadata": {},
   "outputs": [],
   "source": [
    "firstdecile1.describe()"
   ]
  },
  {
   "cell_type": "code",
   "execution_count": null,
   "metadata": {},
   "outputs": [],
   "source": [
    "lastdecile1.describe()"
   ]
  },
  {
   "cell_type": "code",
   "execution_count": null,
   "metadata": {},
   "outputs": [],
   "source": []
  },
  {
   "cell_type": "code",
   "execution_count": null,
   "metadata": {},
   "outputs": [],
   "source": [
    "#\n",
    "#\n",
    "#\n",
    "#\n",
    "#Assignment D\n",
    "#\n",
    "#\n",
    "#\n",
    "#\n",
    "\n"
   ]
  },
  {
   "cell_type": "code",
   "execution_count": null,
   "metadata": {},
   "outputs": [],
   "source": [
    "#preliminaries\n",
    "import pandas as pd\n",
    "import numpy as np\n",
    "\n",
    "%matplotlib inline\n",
    "import random\n",
    "import matplotlib.pyplot as plt\n",
    "\n",
    "from pandas import Series, DataFrame"
   ]
  },
  {
   "cell_type": "code",
   "execution_count": null,
   "metadata": {},
   "outputs": [],
   "source": [
    "import pandas as pd\n",
    "#url_au = 'https://www.google.org/flutrends/about/data/flu/au/data.txt'\n",
    "url_au = 'data_au.txt'\n",
    "\n",
    "#set header=8 to properly extract the data\n",
    "australiaFluTrends = pd.read_csv(url_au, sep=',', header = 8)\n",
    "\n",
    "australiaFluTrends['Date'] = pd.to_datetime(australiaFluTrends['Date'])\n",
    "\n",
    "australiaFluTrends.head(5)"
   ]
  },
  {
   "cell_type": "code",
   "execution_count": null,
   "metadata": {},
   "outputs": [],
   "source": [
    "%matplotlib inline\n",
    "\n",
    "ax = australiaFluTrends.plot(legend ='left', x='Date', y = 'Australia', figsize=(15, 6), grid=True)"
   ]
  },
  {
   "cell_type": "code",
   "execution_count": null,
   "metadata": {},
   "outputs": [],
   "source": [
    "import pandas as pd\n",
    "#url_nl = 'https://www.google.org/flutrends/about/data/flu/nl/data.txt'\n",
    "url_nl = 'data_nl.txt'\n",
    "\n",
    "#set header=8 to properly extract the data\n",
    "netherlandsFluTrends = pd.read_csv(url_nl, header = 8)\n",
    "netherlandsFluTrends['Date'] = pd.to_datetime(netherlandsFluTrends['Date'])\n",
    "\n",
    "netherlandsFluTrends.head()"
   ]
  },
  {
   "cell_type": "code",
   "execution_count": null,
   "metadata": {},
   "outputs": [],
   "source": [
    "%matplotlib inline\n",
    "\n",
    "ax = netherlandsFluTrends.plot(legend ='left', x='Date', y = 'Netherlands', figsize=(15, 6), grid=True)"
   ]
  },
  {
   "cell_type": "code",
   "execution_count": null,
   "metadata": {},
   "outputs": [],
   "source": [
    "australiaFluTrends1 = australiaFluTrends.set_index('Date')"
   ]
  },
  {
   "cell_type": "code",
   "execution_count": null,
   "metadata": {},
   "outputs": [],
   "source": [
    "yearlyaustralia = australiaFluTrends1.resample('Y')['Australia'].agg(['min', 'max'])\n",
    "print(yearlyaustralia)"
   ]
  },
  {
   "cell_type": "code",
   "execution_count": null,
   "metadata": {},
   "outputs": [],
   "source": [
    "netherlandsFluTrends1 = netherlandsFluTrends.set_index('Date')"
   ]
  },
  {
   "cell_type": "code",
   "execution_count": null,
   "metadata": {},
   "outputs": [],
   "source": [
    "yearlynetherlands = netherlandsFluTrends1.resample('Y')['Netherlands'].agg(['min', 'max'])\n",
    "print(yearlynetherlands)"
   ]
  },
  {
   "cell_type": "code",
   "execution_count": null,
   "metadata": {},
   "outputs": [],
   "source": [
    "yearlynetherlands = yearlynetherlands.reset_index()\n"
   ]
  },
  {
   "cell_type": "code",
   "execution_count": null,
   "metadata": {},
   "outputs": [],
   "source": [
    "%matplotlib inline\n",
    "ax = yearlynetherlands.plot(legend ='left', x='Date', y = 'max', figsize=(15, 6), grid=True)\n",
    "#Plot the flu trend for Australia; ax=ax plots the chart into the previous\n",
    "\n",
    "yearlynetherlands.plot(x='Date', y = 'min' , ax=ax)\n",
    "netherlandsFluTrends.plot(x='Date', y = 'Netherlands', ax=ax)"
   ]
  },
  {
   "cell_type": "code",
   "execution_count": null,
   "metadata": {},
   "outputs": [],
   "source": [
    "yearlyaustralia = yearlyaustralia.reset_index()"
   ]
  },
  {
   "cell_type": "code",
   "execution_count": null,
   "metadata": {},
   "outputs": [],
   "source": [
    "%matplotlib inline\n",
    "ax = yearlyaustralia.plot(legend ='left', x='Date', y = 'max', figsize=(15, 6), grid=True)\n",
    "#Plot the flu trend for Australia; ax=ax plots the chart into the previous\n",
    "\n",
    "yearlyaustralia.plot(x='Date', y = 'min' , ax=ax)\n",
    "australiaFluTrends.plot(x='Date', y = 'Australia', ax=ax)"
   ]
  },
  {
   "cell_type": "code",
   "execution_count": null,
   "metadata": {},
   "outputs": [],
   "source": []
  }
 ],
 "metadata": {
  "kernelspec": {
   "display_name": "Python 3",
   "language": "python",
   "name": "python3"
  },
  "language_info": {
   "codemirror_mode": {
    "name": "ipython",
    "version": 3
   },
   "file_extension": ".py",
   "mimetype": "text/x-python",
   "name": "python",
   "nbconvert_exporter": "python",
   "pygments_lexer": "ipython3",
   "version": "3.6.4"
  }
 },
 "nbformat": 4,
 "nbformat_minor": 2
}
